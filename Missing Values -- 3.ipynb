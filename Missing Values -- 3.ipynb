{
 "cells": [
  {
   "cell_type": "markdown",
   "metadata": {},
   "source": [
    "# Leaning Objectives\n",
    "\n",
    "* Introduce the issue around datasets with missing values\n",
    "* Investigate different strategies for dealing with missing values in datasets"
   ]
  },
  {
   "cell_type": "markdown",
   "metadata": {},
   "source": [
    "### Motivation\n",
    "\n",
    "* Even the simple PM2.5 dataset we introduced had missing values (indicated by \"NA\")\n",
    "* So far we dealt with them simply by **discarding** those instances\n",
    "\n",
    "```Python\n",
    "df = df.dropna(subset=['pm2.5'])\n",
    "```\n",
    "\n",
    "**OR**\n",
    "\n",
    "```Python\n",
    "dataset = [d for d in dataset if d[5] != 'NA']\n",
    "```\n",
    "\n",
    "* This was an okey strategy when dealing with a single feature where missing data was rare, but how would in generalize?\n",
    "\n",
    "* In particular, this approach wouldn't work if **many** features might be missing"
   ]
  },
  {
   "cell_type": "markdown",
   "metadata": {},
   "source": [
    "## Concept: Strategies for dealing with missing values\n",
    "\n",
    "In this lecture we'll look at three strategies for dealing with missing data:\n",
    "\n",
    "* **Filtering** (i.e., discarding missing values), as we discussed on the previous slide\n",
    "* **Missing data imputation**: filling in the missing values with \"reasonable\" estimates\n",
    "* **Modeling**: changing our regression/classification algorithms to handle missing data explicitly"
   ]
  },
  {
   "cell_type": "markdown",
   "metadata": {},
   "source": [
    "### Missing data imputation\n",
    "\n",
    "Seeks to replace missing values by reasonable estimates:\n",
    "\n",
    "* A simple scheme would be to replace every missing value with the **average** for that feature.\n",
    "  - What are the consequences of such a scheme?\n",
    "    - The average may be sensitive to outlying values (though this could be addressed by using the **median** instead)\n",
    "    - The imputed value may or may not be \"reasonable\" (e.g. consider our ```gender = male``` feature)\n",
    "    \n",
    "    \n",
    "* Alternatively we could consider more sophisticated data imputation schemes\n",
    "  - Rather than imputing using the mean, does it make more sense to compute the mean of **a certain subgroup** (e.g. if \"height\" is missing, can we impute using the average height of users with the same gender?) \n",
    "  \n",
    "  - We could also train a seperate **predictor** to impute the missing values (though this is complex if there are missing values for many different features)"
   ]
  },
  {
   "cell_type": "markdown",
   "metadata": {},
   "source": [
    "### Modeling missing data\n",
    "\n",
    "How can we directly model the missing values within a regression or classification algorithm?\n",
    "\n",
    "* One simple scheme: add an **additional feature** indicating that a value is missing\n",
    "* E.g.:\n",
    "$$\n",
    "\\begin{array}{l}\n",
    "\\mbox{feature} = [1, 0, 0] \\mbox{ for \"female\"} \\\\\n",
    "\\mbox{feature} = [0, 1, 0] \\mbox{ for \"male\"} \\\\\n",
    "\\mbox{feature} = [0, 0, 1] \\mbox{ for \"feature missing\"}\n",
    "\\end{array}\n",
    "$$\n"
   ]
  },
  {
   "cell_type": "markdown",
   "metadata": {},
   "source": [
    "## Summary of concepts\n",
    "\n",
    "* Discussed some simple schemes for dealing with missing data\n",
    "* Introduced the ideas of **data imputation** and **modeling missing data**"
   ]
  },
  {
   "cell_type": "markdown",
   "metadata": {},
   "source": [
    "### On your own...\n",
    "\n",
    "* Extend our previous code (on pm2.5 levels vs. air temperature) to handle missing features\n",
    "* Experiment with different missing data imputation schemes and note their effect on performance"
   ]
  },
  {
   "cell_type": "code",
   "execution_count": null,
   "metadata": {},
   "outputs": [],
   "source": []
  }
 ],
 "metadata": {
  "kernelspec": {
   "display_name": "Python 3",
   "language": "python",
   "name": "python3"
  },
  "language_info": {
   "codemirror_mode": {
    "name": "ipython",
    "version": 3
   },
   "file_extension": ".py",
   "mimetype": "text/x-python",
   "name": "python",
   "nbconvert_exporter": "python",
   "pygments_lexer": "ipython3",
   "version": "3.7.3"
  }
 },
 "nbformat": 4,
 "nbformat_minor": 2
}
