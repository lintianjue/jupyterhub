{
 "cells": [
  {
   "cell_type": "markdown",
   "metadata": {},
   "source": [
    "## Feature Engineering\n",
    "\n",
    "* Demonstrate the use of **transformation** to incorporate non-linear functions into linear models\n",
    "\n",
    "### Example - Weight vs. Height\n",
    "\n",
    "We've previously seen simple examples of regression model such as ```weight``` vs. ```height```:\n",
    "\n",
    "* A linear relationship is probably *okay* for modeling this data\n",
    "* But, it certainly makes some assumptions that aren't totally justified\n",
    "* How can we fit more suitable, or more general functions\n",
    "\n",
    "<img src=\"scatterplot_height_weight.JPG\" alt=\"Drawing\" style=\"width: 500px;\"/>"
   ]
  },
  {
   "cell_type": "markdown",
   "metadata": {},
   "source": [
    "**Fitting complex functions**\n",
    "\n",
    "Let's start with a polynomial function (e.g. a cubic function):\n",
    "\n",
    "$$\n",
    "\\mbox{weight} = \\theta_0 + \\theta_1 \\times \\mbox{height} + \\theta_2 \\times \\mbox{height}^2 + \\theta_3 \\times \\mbox{height}^3\n",
    "$$\n",
    "\n",
    "* Note that this is perfectly straightforward: the model still takes the form\n",
    "\n",
    "    $$\n",
    "    \\mbox{weight} = \\theta \\cdot x\n",
    "    $$\n",
    "\n",
    "* We just need to use the feature vector\n",
    "\n",
    "    $$\n",
    "    x = [1, \\mbox{height}, \\mbox{height}^2, \\mbox{height}^3]\n",
    "    $$"
   ]
  },
  {
   "cell_type": "code",
   "execution_count": 1,
   "metadata": {},
   "outputs": [
    {
     "data": {
      "text/html": [
       "<div>\n",
       "<style scoped>\n",
       "    .dataframe tbody tr th:only-of-type {\n",
       "        vertical-align: middle;\n",
       "    }\n",
       "\n",
       "    .dataframe tbody tr th {\n",
       "        vertical-align: top;\n",
       "    }\n",
       "\n",
       "    .dataframe thead th {\n",
       "        text-align: right;\n",
       "    }\n",
       "</style>\n",
       "<table border=\"1\" class=\"dataframe\">\n",
       "  <thead>\n",
       "    <tr style=\"text-align: right;\">\n",
       "      <th></th>\n",
       "      <th>Gender</th>\n",
       "      <th>Height</th>\n",
       "      <th>Weight</th>\n",
       "    </tr>\n",
       "  </thead>\n",
       "  <tbody>\n",
       "    <tr>\n",
       "      <th>0</th>\n",
       "      <td>Male</td>\n",
       "      <td>73.847017</td>\n",
       "      <td>241.893563</td>\n",
       "    </tr>\n",
       "    <tr>\n",
       "      <th>1</th>\n",
       "      <td>Male</td>\n",
       "      <td>68.781904</td>\n",
       "      <td>162.310473</td>\n",
       "    </tr>\n",
       "    <tr>\n",
       "      <th>2</th>\n",
       "      <td>Male</td>\n",
       "      <td>74.110105</td>\n",
       "      <td>212.740856</td>\n",
       "    </tr>\n",
       "    <tr>\n",
       "      <th>3</th>\n",
       "      <td>Male</td>\n",
       "      <td>71.730978</td>\n",
       "      <td>220.042470</td>\n",
       "    </tr>\n",
       "    <tr>\n",
       "      <th>4</th>\n",
       "      <td>Male</td>\n",
       "      <td>69.881796</td>\n",
       "      <td>206.349801</td>\n",
       "    </tr>\n",
       "  </tbody>\n",
       "</table>\n",
       "</div>"
      ],
      "text/plain": [
       "  Gender     Height      Weight\n",
       "0   Male  73.847017  241.893563\n",
       "1   Male  68.781904  162.310473\n",
       "2   Male  74.110105  212.740856\n",
       "3   Male  71.730978  220.042470\n",
       "4   Male  69.881796  206.349801"
      ]
     },
     "execution_count": 1,
     "metadata": {},
     "output_type": "execute_result"
    }
   ],
   "source": [
    "import pandas as pd\n",
    "df = pd.read_csv(\"weight_height.csv\", sep=',', header=0)\n",
    "df.head()"
   ]
  },
  {
   "cell_type": "code",
   "execution_count": 2,
   "metadata": {},
   "outputs": [
    {
     "data": {
      "text/html": [
       "<div>\n",
       "<style scoped>\n",
       "    .dataframe tbody tr th:only-of-type {\n",
       "        vertical-align: middle;\n",
       "    }\n",
       "\n",
       "    .dataframe tbody tr th {\n",
       "        vertical-align: top;\n",
       "    }\n",
       "\n",
       "    .dataframe thead th {\n",
       "        text-align: right;\n",
       "    }\n",
       "</style>\n",
       "<table border=\"1\" class=\"dataframe\">\n",
       "  <thead>\n",
       "    <tr style=\"text-align: right;\">\n",
       "      <th></th>\n",
       "      <th>Gender</th>\n",
       "      <th>Height</th>\n",
       "      <th>Weight</th>\n",
       "      <th>Height^2</th>\n",
       "      <th>Height^3</th>\n",
       "    </tr>\n",
       "  </thead>\n",
       "  <tbody>\n",
       "    <tr>\n",
       "      <th>0</th>\n",
       "      <td>Male</td>\n",
       "      <td>73.847017</td>\n",
       "      <td>241.893563</td>\n",
       "      <td>5453.381922</td>\n",
       "      <td>402715.987625</td>\n",
       "    </tr>\n",
       "    <tr>\n",
       "      <th>1</th>\n",
       "      <td>Male</td>\n",
       "      <td>68.781904</td>\n",
       "      <td>162.310473</td>\n",
       "      <td>4730.950324</td>\n",
       "      <td>325403.771243</td>\n",
       "    </tr>\n",
       "    <tr>\n",
       "      <th>2</th>\n",
       "      <td>Male</td>\n",
       "      <td>74.110105</td>\n",
       "      <td>212.740856</td>\n",
       "      <td>5492.307721</td>\n",
       "      <td>407035.504061</td>\n",
       "    </tr>\n",
       "    <tr>\n",
       "      <th>3</th>\n",
       "      <td>Male</td>\n",
       "      <td>71.730978</td>\n",
       "      <td>220.042470</td>\n",
       "      <td>5145.333263</td>\n",
       "      <td>369079.789145</td>\n",
       "    </tr>\n",
       "    <tr>\n",
       "      <th>4</th>\n",
       "      <td>Male</td>\n",
       "      <td>69.881796</td>\n",
       "      <td>206.349801</td>\n",
       "      <td>4883.465393</td>\n",
       "      <td>341265.331673</td>\n",
       "    </tr>\n",
       "  </tbody>\n",
       "</table>\n",
       "</div>"
      ],
      "text/plain": [
       "  Gender     Height      Weight     Height^2       Height^3\n",
       "0   Male  73.847017  241.893563  5453.381922  402715.987625\n",
       "1   Male  68.781904  162.310473  4730.950324  325403.771243\n",
       "2   Male  74.110105  212.740856  5492.307721  407035.504061\n",
       "3   Male  71.730978  220.042470  5145.333263  369079.789145\n",
       "4   Male  69.881796  206.349801  4883.465393  341265.331673"
      ]
     },
     "execution_count": 2,
     "metadata": {},
     "output_type": "execute_result"
    }
   ],
   "source": [
    "import numpy as np\n",
    "\n",
    "df['Height^2'] = df['Height'].apply(lambda x: np.square(x))\n",
    "df['Height^3'] = df['Height'].apply(lambda x: np.square(x)*x)\n",
    "\n",
    "df.head()"
   ]
  },
  {
   "cell_type": "markdown",
   "metadata": {},
   "source": [
    "**Code: Extracting weight and height, height^2, height^3**"
   ]
  },
  {
   "cell_type": "code",
   "execution_count": 3,
   "metadata": {},
   "outputs": [
    {
     "name": "stdout",
     "output_type": "stream",
     "text": [
      "10000 10000\n"
     ]
    }
   ],
   "source": [
    "Y = df['Weight']\n",
    "X = df[['Height', 'Height^2', 'Height^3']]\n",
    "\n",
    "print(len(X), len(Y))"
   ]
  },
  {
   "cell_type": "markdown",
   "metadata": {},
   "source": [
    "**Code: Transform Linear Regression Model**\n",
    "\n",
    "(equivalent to nonlinear model)"
   ]
  },
  {
   "cell_type": "code",
   "execution_count": 4,
   "metadata": {},
   "outputs": [
    {
     "name": "stdout",
     "output_type": "stream",
     "text": [
      "Intercept: \n",
      " 4180.2425414188765\n",
      "Coefficients: \n",
      " [-1.97710785e+02  3.09581169e+00 -1.55075939e-02]\n"
     ]
    }
   ],
   "source": [
    "from sklearn import linear_model\n",
    "\n",
    "regr = linear_model.LinearRegression()\n",
    "regr.fit(X,Y)\n",
    "\n",
    "print('Intercept: \\n', regr.intercept_)\n",
    "print('Coefficients: \\n', regr.coef_)"
   ]
  },
  {
   "cell_type": "markdown",
   "metadata": {},
   "source": [
    "### Other Forms\n",
    "\n",
    "**NOTE** that we can use the same approach to fit arbitrary functions of the features! E.g.,\n",
    "\n",
    "$$\n",
    "\\mbox{weight} = \\theta_0 + \\theta_1 \\times \\mbox{height} + \\theta_2 \\times \\mbox{height}^2 + \\theta_3\\exp{(\\mbox{height})} + \\theta_4\\sin{(\\mbox{height})}\n",
    "$$\n",
    "\n",
    "* We can perform arbitrary combinations of the **features** and the model will still be linear in the **parameters** (theta):\n",
    "\n",
    "    $$\n",
    "    \\mbox{weight} = \\theta \\cdot x\n",
    "    $$"
   ]
  },
  {
   "cell_type": "code",
   "execution_count": null,
   "metadata": {},
   "outputs": [],
   "source": []
  }
 ],
 "metadata": {
  "kernelspec": {
   "display_name": "Python 3",
   "language": "python",
   "name": "python3"
  },
  "language_info": {
   "codemirror_mode": {
    "name": "ipython",
    "version": 3
   },
   "file_extension": ".py",
   "mimetype": "text/x-python",
   "name": "python",
   "nbconvert_exporter": "python",
   "pygments_lexer": "ipython3",
   "version": "3.7.3"
  }
 },
 "nbformat": 4,
 "nbformat_minor": 2
}
