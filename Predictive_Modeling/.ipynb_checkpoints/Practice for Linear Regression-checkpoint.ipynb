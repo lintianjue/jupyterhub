{
 "cells": [
  {
   "cell_type": "markdown",
   "metadata": {},
   "source": [
    "# Leaning Objectives\n",
    "\n",
    "### In this module, we will cover:\n",
    "* Demonstrate the idea behind **linear regression**\n",
    "\n",
    "* Understand the role of **parameters** in a model"
   ]
  },
  {
   "cell_type": "markdown",
   "metadata": {},
   "source": [
    "## Regression\n",
    "\n",
    "**Regression** is one of the simplest supervised learning approaches to learn relationships between input variables ```features``` and output variables ```predictions```.\n",
    "\n",
    "### Motivation Example: height Vs. weight\n",
    "\n",
    "Suppose we want to understand the relationship between height and weight... or equivalently, can we **predict** a person's weight from their hight?\n",
    "\n",
    "<img src=\"Datasets/Regression_Line.jpg\" alt=\"Drawing\" style=\"width: 700px;\"/>\n",
    "\n",
    "* If we can find such a line, we can use it to make **predictions** (i.e., estimate a person's weight given their height)\n",
    "* How do we **formulate** the problem of finding a line?\n",
    "* If no line will fit the data exactly, how to **approximate**?\n",
    "* What is the \"best\" line?"
   ]
  },
  {
   "cell_type": "markdown",
   "metadata": {},
   "source": [
    "### Recap: Equation for a Line\n",
    "\n",
    "What is the formula describing the line?\n",
    "$$y = m x + b$$\n",
    "or\n",
    "$$\\mbox{weight} = m \\times \\mbox{height} + b$$\n",
    "\n",
    "<img src=\"Datasets/Formula_Line.jpg\" alt=\"Drawing\" style=\"width: 700px;\"/>\n",
    "\n",
    "<img src=\"Datasets/Formula_Line_mul.jpg\" alt=\"Drawing\" style=\"width: 700px;\"/>\n",
    "\n",
    "In fact, we could describe the line as an inner product as:\n",
    "\n",
    "$$ \\mbox{weight} = (\\mbox{height}, \\mbox{age}, 1) \\cdot (m_1, m_2, b)$$\n",
    "\n",
    "Namely,\n",
    "$$y = (x_1, x_2, 1) \\cdot (m_1, m_2, b)$$\n",
    "\n"
   ]
  },
  {
   "cell_type": "markdown",
   "metadata": {},
   "source": [
    "## Linear Regression\n",
    "\n",
    "In general, \n",
    "\n",
    "<img src=\"Datasets/Linear_Regression.jpg\" alt=\"Drawing\" style=\"width: 400px;\"/>\n",
    "\n",
    "But here we have **many** observations, so we can rewrite using a matrix: \n",
    "$$y_i = X_i \\cdot \\theta$$\n",
    "<img src=\"Datasets/Linear_Regression_matrix.jpg\" alt=\"Drawing\" style=\"width: 400px;\"/>\n",
    "\n",
    "### ? Solve for theta\n",
    "$$ X\\theta = y \\\\\n",
    "   X^TX\\theta = X^Ty \\\\\n",
    "   \\theta = (X^TX)^{-1}X^Ty\n",
    "$$"
   ]
  },
  {
   "cell_type": "markdown",
   "metadata": {},
   "source": [
    "## Summary of concepts\n",
    "\n",
    "* **Regression** is one of the simplest forms of supervised learning\n",
    "* **Linear Regression** is essentially equivalent to finding a line that best fits the data\n",
    "* Can express this as solving a system of matrix equations"
   ]
  },
  {
   "cell_type": "markdown",
   "metadata": {},
   "source": [
    "## Regression in Python\n",
    "\n",
    "* Explore how to express linear regression equations in terms of Python data structures\n",
    "* Work through a (simple) **real-world regression example**\n",
    "* Compare a \"manual\" implementation of linear regression to a library function"
   ]
  },
  {
   "cell_type": "markdown",
   "metadata": {},
   "source": [
    "### Example - Air quality prediction\n",
    "\n",
    "We'll look at the problem of predicting **air quality**, using an index called pm2.5, measured in Beijing\n",
    "\n",
    "* This is a \"simpler\" dataset than some of the others we've been working with, as the relevant features are all real-valued\n",
    "\n",
    "<img src=\"Datasets/Beijing_PM25.jpg\" alt=\"Drawing\" style=\"width: 600px;\"/>\n"
   ]
  },
  {
   "cell_type": "markdown",
   "metadata": {},
   "source": [
    "#### What are we trying to predict?\n",
    "\n",
    "$$ \\mbox{pm2.5} = \\theta_0 + \\theta_1 \\times \\mbox{temp}$$\n"
   ]
  },
  {
   "cell_type": "code",
   "execution_count": 1,
   "metadata": {},
   "outputs": [
    {
     "data": {
      "text/html": [
       "<div>\n",
       "<style scoped>\n",
       "    .dataframe tbody tr th:only-of-type {\n",
       "        vertical-align: middle;\n",
       "    }\n",
       "\n",
       "    .dataframe tbody tr th {\n",
       "        vertical-align: top;\n",
       "    }\n",
       "\n",
       "    .dataframe thead th {\n",
       "        text-align: right;\n",
       "    }\n",
       "</style>\n",
       "<table border=\"1\" class=\"dataframe\">\n",
       "  <thead>\n",
       "    <tr style=\"text-align: right;\">\n",
       "      <th></th>\n",
       "      <th>No</th>\n",
       "      <th>year</th>\n",
       "      <th>month</th>\n",
       "      <th>day</th>\n",
       "      <th>hour</th>\n",
       "      <th>pm2.5</th>\n",
       "      <th>DEWP</th>\n",
       "      <th>TEMP</th>\n",
       "      <th>PRES</th>\n",
       "      <th>cbwd</th>\n",
       "      <th>Iws</th>\n",
       "      <th>Is</th>\n",
       "      <th>Ir</th>\n",
       "    </tr>\n",
       "  </thead>\n",
       "  <tbody>\n",
       "    <tr>\n",
       "      <th>0</th>\n",
       "      <td>1</td>\n",
       "      <td>2010</td>\n",
       "      <td>1</td>\n",
       "      <td>1</td>\n",
       "      <td>0</td>\n",
       "      <td>NaN</td>\n",
       "      <td>-21</td>\n",
       "      <td>-11.0</td>\n",
       "      <td>1021.0</td>\n",
       "      <td>NW</td>\n",
       "      <td>1.79</td>\n",
       "      <td>0</td>\n",
       "      <td>0</td>\n",
       "    </tr>\n",
       "    <tr>\n",
       "      <th>1</th>\n",
       "      <td>2</td>\n",
       "      <td>2010</td>\n",
       "      <td>1</td>\n",
       "      <td>1</td>\n",
       "      <td>1</td>\n",
       "      <td>NaN</td>\n",
       "      <td>-21</td>\n",
       "      <td>-12.0</td>\n",
       "      <td>1020.0</td>\n",
       "      <td>NW</td>\n",
       "      <td>4.92</td>\n",
       "      <td>0</td>\n",
       "      <td>0</td>\n",
       "    </tr>\n",
       "    <tr>\n",
       "      <th>2</th>\n",
       "      <td>3</td>\n",
       "      <td>2010</td>\n",
       "      <td>1</td>\n",
       "      <td>1</td>\n",
       "      <td>2</td>\n",
       "      <td>NaN</td>\n",
       "      <td>-21</td>\n",
       "      <td>-11.0</td>\n",
       "      <td>1019.0</td>\n",
       "      <td>NW</td>\n",
       "      <td>6.71</td>\n",
       "      <td>0</td>\n",
       "      <td>0</td>\n",
       "    </tr>\n",
       "    <tr>\n",
       "      <th>3</th>\n",
       "      <td>4</td>\n",
       "      <td>2010</td>\n",
       "      <td>1</td>\n",
       "      <td>1</td>\n",
       "      <td>3</td>\n",
       "      <td>NaN</td>\n",
       "      <td>-21</td>\n",
       "      <td>-14.0</td>\n",
       "      <td>1019.0</td>\n",
       "      <td>NW</td>\n",
       "      <td>9.84</td>\n",
       "      <td>0</td>\n",
       "      <td>0</td>\n",
       "    </tr>\n",
       "    <tr>\n",
       "      <th>4</th>\n",
       "      <td>5</td>\n",
       "      <td>2010</td>\n",
       "      <td>1</td>\n",
       "      <td>1</td>\n",
       "      <td>4</td>\n",
       "      <td>NaN</td>\n",
       "      <td>-20</td>\n",
       "      <td>-12.0</td>\n",
       "      <td>1018.0</td>\n",
       "      <td>NW</td>\n",
       "      <td>12.97</td>\n",
       "      <td>0</td>\n",
       "      <td>0</td>\n",
       "    </tr>\n",
       "  </tbody>\n",
       "</table>\n",
       "</div>"
      ],
      "text/plain": [
       "   No  year  month  day  hour  pm2.5  DEWP  TEMP    PRES cbwd    Iws  Is  Ir\n",
       "0   1  2010      1    1     0    NaN   -21 -11.0  1021.0   NW   1.79   0   0\n",
       "1   2  2010      1    1     1    NaN   -21 -12.0  1020.0   NW   4.92   0   0\n",
       "2   3  2010      1    1     2    NaN   -21 -11.0  1019.0   NW   6.71   0   0\n",
       "3   4  2010      1    1     3    NaN   -21 -14.0  1019.0   NW   9.84   0   0\n",
       "4   5  2010      1    1     4    NaN   -20 -12.0  1018.0   NW  12.97   0   0"
      ]
     },
     "execution_count": 1,
     "metadata": {},
     "output_type": "execute_result"
    }
   ],
   "source": [
    "import pandas as pd\n",
    "df = pd.read_csv(\"Datasets/Beijing_PM25_air_data.csv\", sep=',', header=0)\n",
    "df.head()"
   ]
  },
  {
   "cell_type": "markdown",
   "metadata": {},
   "source": [
    "### Code: Extracting features and labels"
   ]
  },
  {
   "cell_type": "code",
   "execution_count": 2,
   "metadata": {},
   "outputs": [
    {
     "name": "stdout",
     "output_type": "stream",
     "text": [
      "41757 41757\n"
     ]
    }
   ],
   "source": [
    "dataset = df.dropna(subset=['pm2.5'])\n",
    "y = dataset['pm2.5']\n",
    "X = dataset['TEMP']\n",
    "\n",
    "print (len(X), len(y))"
   ]
  },
  {
   "cell_type": "code",
   "execution_count": 3,
   "metadata": {},
   "outputs": [],
   "source": [
    "from sklearn import linear_model"
   ]
  },
  {
   "cell_type": "markdown",
   "metadata": {},
   "source": [
    "### Code: Finding the parameters\n",
    "\n",
    "So we can predict as:\n",
    "$$\n",
    "\\mbox{pm2.5} = 107.1 - 0.68 * \\mbox{temp}\n",
    "$$"
   ]
  },
  {
   "cell_type": "code",
   "execution_count": 6,
   "metadata": {},
   "outputs": [
    {
     "name": "stdout",
     "output_type": "stream",
     "text": [
      "Intercept: \n",
      " 107.10183392374576\n",
      "Coefficients: \n",
      " [-0.68447989]\n"
     ]
    }
   ],
   "source": [
    "X= X.to_numpy().reshape(-1, 1)\n",
    "\n",
    "regr = linear_model.LinearRegression()\n",
    "regr.fit(X,y)\n",
    "\n",
    "print('Intercept: \\n', regr.intercept_)\n",
    "print('Coefficients: \\n', regr.coef_)"
   ]
  },
  {
   "cell_type": "code",
   "execution_count": 7,
   "metadata": {},
   "outputs": [
    {
     "name": "stdout",
     "output_type": "stream",
     "text": [
      "Intercept: \n",
      " 108.4637133461681\n",
      "Coefficients: \n",
      " [-0.67340075 -0.13034581]\n"
     ]
    }
   ],
   "source": [
    "X = dataset[['TEMP', 'hour']]\n",
    "\n",
    "regr = linear_model.LinearRegression()\n",
    "regr.fit(X,y)\n",
    "\n",
    "print('Intercept: \\n', regr.intercept_)\n",
    "print('Coefficients: \\n', regr.coef_)"
   ]
  },
  {
   "cell_type": "markdown",
   "metadata": {},
   "source": [
    "## Time-Series Regression\n",
    "\n",
    "* Explore options to apply regression to time-series data\n",
    "* Consider the merits of alternative approaches\n",
    "* Introduce the \"autoregression\" framework for time-series regression\n"
   ]
  },
  {
   "cell_type": "markdown",
   "metadata": {},
   "source": [
    "### Method 1: \"Moving Average\"\n",
    "\n",
    "Using a window of some fixed length.\n",
    "\n",
    "<img src=\"Datasets/Moving_AVG.jpg\" alt=\"Drawing\" style=\"width: 500px;\"/>\n",
    "\n",
    "### Method 2: \"Exponential Smooth\"\n",
    "\n",
    "Weight the most recent points exponentially higher\n",
    "\n",
    "<img src=\"Datasets/Exponential_Smooth.jpg\" alt=\"Drawing\" style=\"width: 500px;\"/>\n",
    "\n",
    "### Time-series Regression: \n",
    "\n",
    "Why not just **learn** the weights?\n",
    "\n",
    "* We can now fit this model using least-squares\n",
    "* This procedure is known as **autoregression**\n",
    "* Using this model, we can capture **periodic** effects, e.g., that the traffic of a website is most similar to its traffic 7 days ago"
   ]
  },
  {
   "cell_type": "markdown",
   "metadata": {},
   "source": [
    "### Example: Air quality prediction\n",
    "\n",
    "* The air quality data is made up of sequential (hourly) predictions\n",
    "* So, we can predict the next air quality measurement from the previous ones"
   ]
  },
  {
   "cell_type": "code",
   "execution_count": 8,
   "metadata": {},
   "outputs": [
    {
     "data": {
      "text/plain": [
       "array([25, 2010, 1, 2, 0, 129.0, -16, -4.0, 1020.0, 'SE', 1.79, 0, 0],\n",
       "      dtype=object)"
      ]
     },
     "execution_count": 8,
     "metadata": {},
     "output_type": "execute_result"
    }
   ],
   "source": [
    "import pandas as pd\n",
    "import numpy as np\n",
    "\n",
    "df = pd.read_csv(\"Datasets/Beijing_PM25_air_data.csv\", sep=',', header=0)\n",
    "dataset = (df.dropna(subset=['pm2.5'])).to_numpy()\n",
    "dataset[0]\n"
   ]
  },
  {
   "cell_type": "markdown",
   "metadata": {},
   "source": [
    "### Extract the autoregressive features\n",
    "\n",
    "```python [ind-windowSize:ind]] ``` is the vector of previous (windowSize) observations:\n",
    "\n",
    "* Feature vector is made up of the previous pm2.5 observations\n",
    "* The number of previous observations is provided as a configurable parameter\n"
   ]
  },
  {
   "cell_type": "code",
   "execution_count": 21,
   "metadata": {},
   "outputs": [],
   "source": [
    "def feature(dataset, ind, windowSize):\n",
    "    previousValues = [float(d[5]) for d in dataset[ind-windowSize:ind]]  \n",
    "    return previousValues"
   ]
  },
  {
   "cell_type": "code",
   "execution_count": 22,
   "metadata": {},
   "outputs": [],
   "source": [
    "windowSize = 10\n",
    "N = len(dataset)"
   ]
  },
  {
   "cell_type": "code",
   "execution_count": 23,
   "metadata": {},
   "outputs": [
    {
     "data": {
      "text/plain": [
       "[[129.0, 148.0, 159.0, 181.0, 138.0, 109.0, 105.0, 124.0, 120.0, 132.0],\n",
       " [148.0, 159.0, 181.0, 138.0, 109.0, 105.0, 124.0, 120.0, 132.0, 140.0],\n",
       " [159.0, 181.0, 138.0, 109.0, 105.0, 124.0, 120.0, 132.0, 140.0, 152.0],\n",
       " [181.0, 138.0, 109.0, 105.0, 124.0, 120.0, 132.0, 140.0, 152.0, 148.0],\n",
       " [138.0, 109.0, 105.0, 124.0, 120.0, 132.0, 140.0, 152.0, 148.0, 164.0],\n",
       " [109.0, 105.0, 124.0, 120.0, 132.0, 140.0, 152.0, 148.0, 164.0, 158.0],\n",
       " [105.0, 124.0, 120.0, 132.0, 140.0, 152.0, 148.0, 164.0, 158.0, 154.0],\n",
       " [124.0, 120.0, 132.0, 140.0, 152.0, 148.0, 164.0, 158.0, 154.0, 159.0],\n",
       " [120.0, 132.0, 140.0, 152.0, 148.0, 164.0, 158.0, 154.0, 159.0, 164.0],\n",
       " [132.0, 140.0, 152.0, 148.0, 164.0, 158.0, 154.0, 159.0, 164.0, 170.0]]"
      ]
     },
     "execution_count": 23,
     "metadata": {},
     "output_type": "execute_result"
    }
   ],
   "source": [
    "X = [feature(dataset, ind, windowSize) for ind in range(windowSize, N)]\n",
    "X[:10]"
   ]
  },
  {
   "cell_type": "code",
   "execution_count": 24,
   "metadata": {},
   "outputs": [],
   "source": [
    "y = [float(d[5]) for d in dataset[windowSize:]]"
   ]
  },
  {
   "cell_type": "code",
   "execution_count": 25,
   "metadata": {},
   "outputs": [
    {
     "name": "stdout",
     "output_type": "stream",
     "text": [
      "Intercept: \n",
      " 3.923543065080068\n",
      "Coefficients: \n",
      " [ 0.01296079  0.00414674 -0.00925187  0.00794837 -0.01458271 -0.0164066\n",
      "  0.00626613  0.04355583 -0.22994129  1.15548897]\n"
     ]
    }
   ],
   "source": [
    "from sklearn import linear_model\n",
    "\n",
    "regr = linear_model.LinearRegression()\n",
    "regr.fit(X,y)\n",
    "\n",
    "print('Intercept: \\n', regr.intercept_)\n",
    "print('Coefficients: \\n', regr.coef_)"
   ]
  },
  {
   "cell_type": "markdown",
   "metadata": {},
   "source": [
    "### Code: Mixing autoregression and regular regression\n",
    "\n",
    "Add features for temperature, pressure, and wind-speed\n",
    "```feat = [float(dataset[ind][7]), float(dataset[ind][8]), float(dataset[ind][10])]```\n",
    "\n",
    "* Note that we don't need to use autoregression **or** regular regression exclusively\n",
    "* We can include both types of features simultaneously"
   ]
  },
  {
   "cell_type": "code",
   "execution_count": 26,
   "metadata": {},
   "outputs": [],
   "source": [
    "def feature(dataset, ind, windowSize):\n",
    "    feat = [float(dataset[ind][7]), float(dataset[ind][8]), float(dataset[ind][10])]\n",
    "    previousValues = [float(d[5]) for d in dataset[ind-windowSize:ind]]  \n",
    "    return feat + previousValues"
   ]
  },
  {
   "cell_type": "code",
   "execution_count": 27,
   "metadata": {},
   "outputs": [],
   "source": [
    "X = [feature(dataset, ind, windowSize) for ind in range(windowSize, N)]\n",
    "y = [float(d[5]) for d in dataset[windowSize:]]"
   ]
  },
  {
   "cell_type": "code",
   "execution_count": 28,
   "metadata": {},
   "outputs": [
    {
     "name": "stdout",
     "output_type": "stream",
     "text": [
      "Intercept: \n",
      " 166.26145135274538\n",
      "Coefficients: \n",
      " [-0.17185574 -0.15644142 -0.02504713  0.01507651  0.00366639 -0.00937757\n",
      "  0.00743749 -0.01508783 -0.01678953  0.00571177  0.04276405 -0.22955893\n",
      "  1.15031328]\n"
     ]
    }
   ],
   "source": [
    "from sklearn import linear_model\n",
    "\n",
    "regr = linear_model.LinearRegression()\n",
    "regr.fit(X,y)\n",
    "\n",
    "print('Intercept: \\n', regr.intercept_)\n",
    "print('Coefficients: \\n', regr.coef_)"
   ]
  },
  {
   "cell_type": "markdown",
   "metadata": {},
   "source": [
    "## Summary of concepts\n",
    "\n",
    "* Demonstrate how to perform autoregression in Python"
   ]
  },
  {
   "cell_type": "markdown",
   "metadata": {},
   "source": [
    "### On your own...\n",
    "\n",
    "* Experiment with different sliding window sizes and their impact on performance\n",
    "* Try alternative approaches (e.g. sliding windows) and compare them to autoregression"
   ]
  },
  {
   "cell_type": "markdown",
   "metadata": {},
   "source": [
    "### Ilustration\n",
    "\n",
    "s"
   ]
  },
  {
   "cell_type": "code",
   "execution_count": null,
   "metadata": {},
   "outputs": [],
   "source": []
  },
  {
   "cell_type": "code",
   "execution_count": null,
   "metadata": {},
   "outputs": [],
   "source": []
  },
  {
   "cell_type": "code",
   "execution_count": null,
   "metadata": {},
   "outputs": [],
   "source": []
  },
  {
   "cell_type": "code",
   "execution_count": null,
   "metadata": {},
   "outputs": [],
   "source": []
  },
  {
   "cell_type": "code",
   "execution_count": null,
   "metadata": {},
   "outputs": [],
   "source": []
  },
  {
   "cell_type": "code",
   "execution_count": null,
   "metadata": {},
   "outputs": [],
   "source": []
  }
 ],
 "metadata": {
  "kernelspec": {
   "display_name": "Python 3",
   "language": "python",
   "name": "python3"
  },
  "language_info": {
   "codemirror_mode": {
    "name": "ipython",
    "version": 3
   },
   "file_extension": ".py",
   "mimetype": "text/x-python",
   "name": "python",
   "nbconvert_exporter": "python",
   "pygments_lexer": "ipython3",
   "version": "3.7.3"
  }
 },
 "nbformat": 4,
 "nbformat_minor": 2
}
