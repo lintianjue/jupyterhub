{
 "cells": [
  {
   "cell_type": "markdown",
   "metadata": {},
   "source": [
    "# Data Management with Pandas \n",
    "\n",
    "## Exercise for Hands-on\n",
    "\n",
    "This notebook contains the assignments to be completed as part of the hands on for the subject \"Python for Data Science Part I\". \n",
    "\n",
    "**Note:** All assignments in this document must be completed in the sequence in this document in order to complete the workshop."
   ]
  },
  {
   "cell_type": "markdown",
   "metadata": {},
   "source": [
    "### Data Sources\n",
    "\n",
    "**The sample datasets are provided:** ```EMP & DEPT```\n",
    "\n",
    "You may access the relevant CSV data from:\n",
    "\n",
    "```\n",
    "    Datasets/Data_EMP.csv\n",
    "    Datasets/Data_DEPT.csv \n",
    "```\n",
    "\n",
    "For the **EMP** table, the information is described as:\n",
    "\n",
    "Column name\t| Data type\t| Description\n",
    "--------------------|--------------------|-------------------- \n",
    "EMPNO |\tNumber | Employee number\n",
    "ENAME |\tString |\tEmployee name\n",
    "JOB |\tString |\tDesignation\n",
    "MGR |\tNumbe |Manager’s Emp. number\n",
    "HIREDATE |\tDate |\tDate of joining\n",
    "SAL\t |Number |\tBasic Salary\n",
    "COMM |\tNumber |\tCommission\n",
    "DEPTNO |\tNumber |\tDepartment Number\n",
    "\n",
    "\n",
    "For the **DEPT** table, the information is described as:\n",
    "\n",
    "Column name\t| Data type\t| Description\n",
    "--------------------|--------------------|-------------------- \n",
    "DEPTNO | Number |\tDepartment number\n",
    "DNAME |\tString |\tDepartment name\n",
    "LOC |\tString |\tLocation of department\n",
    "\n",
    "\n",
    "                                             \n"
   ]
  },
  {
   "cell_type": "markdown",
   "metadata": {},
   "source": [
    "### Assignment 1: Pandas Basics (Reading Data Files, DataFrames, Data Selection)"
   ]
  },
  {
   "cell_type": "markdown",
   "metadata": {},
   "source": [
    "**Step #1:** Read the data files into DataFrame\n",
    "\n",
    "  --  **```pandas.read_csv()```**"
   ]
  },
  {
   "cell_type": "code",
   "execution_count": null,
   "metadata": {},
   "outputs": [],
   "source": [
    "# Command to import the pandas library to your notebook\n",
    "import pandas as pd\n",
    "\n",
    "# Read data from provided datasets, e.g., df_EMP & df_DEPT\n",
    "# ADD YOUR CODE HERE\n"
   ]
  },
  {
   "cell_type": "code",
   "execution_count": null,
   "metadata": {},
   "outputs": [],
   "source": [
    "# Check the data loaded correct or not\n"
   ]
  },
  {
   "cell_type": "code",
   "execution_count": null,
   "metadata": {},
   "outputs": [],
   "source": []
  },
  {
   "cell_type": "code",
   "execution_count": null,
   "metadata": {},
   "outputs": [],
   "source": [
    "# Describe the maximum, minimum and average salary in the company.\n",
    "# ADD YOUR CODE HERE\n"
   ]
  },
  {
   "cell_type": "markdown",
   "metadata": {},
   "source": [
    "**Step #2:** Perform the queries on the EMP and DEPT DataFrames\n",
    "\n",
    "* To select rows and cloumns, use the ```df.loc[]``` or ```df[]```"
   ]
  },
  {
   "cell_type": "code",
   "execution_count": null,
   "metadata": {},
   "outputs": [],
   "source": [
    "# List the names of employee\n",
    "# ADD YOUR CODE HERE\n"
   ]
  },
  {
   "cell_type": "code",
   "execution_count": null,
   "metadata": {},
   "outputs": [],
   "source": []
  },
  {
   "cell_type": "markdown",
   "metadata": {},
   "source": [
    "### Assignment 2: Sort DataFrame Values\n",
    "\n",
    "* To sort Pandas DataFrame based on the values of a column or multiple columns, use the **.sort_values()** attribute\n",
    "* To sort the values in ascending or descending orders, use the argument **ascending=False**."
   ]
  },
  {
   "cell_type": "code",
   "execution_count": null,
   "metadata": {},
   "outputs": [],
   "source": [
    "# List the top three employees in terms of basic salary\n",
    "# ADD YOUR CODE HERE\n",
    "df_EMP.sort_values('SAL', ascending = False).head(3)"
   ]
  },
  {
   "cell_type": "markdown",
   "metadata": {},
   "source": [
    "### Assignment 3: Query with conditions\n",
    "\n",
    "* To query the values **WHERE** certain conditions are met, via *boolean indexing*.\n",
    "\n",
    "The following example is simply passing a Series of True/False objects to the DataFrame, returning all rows with True.\n",
    "\n",
    "```\n",
    "   df[df['star_rating'] == 4].head(5)\n",
    "```"
   ]
  },
  {
   "cell_type": "code",
   "execution_count": null,
   "metadata": {},
   "outputs": [],
   "source": [
    "# List the names of analysts and salesmen\n",
    "# ADD YOUR CODE HERE\n"
   ]
  },
  {
   "cell_type": "markdown",
   "metadata": {},
   "source": [
    "* To query the values which is a DATE type, we may conver to the datetime first via\n",
    "\n",
    "    --  **```pd.to_datetime('30/09/1981', format='%d/%m/%Y')```**"
   ]
  },
  {
   "cell_type": "code",
   "execution_count": null,
   "metadata": {},
   "outputs": [],
   "source": [
    "# List the details of employees who have joined before 30 Sep 81\n",
    "# ADD YOUR CODE HERE\n"
   ]
  },
  {
   "cell_type": "code",
   "execution_count": null,
   "metadata": {},
   "outputs": [],
   "source": [
    "# List the names of employees who are not managers\n",
    "# ADD YOUR CODE HERE\n"
   ]
  },
  {
   "cell_type": "code",
   "execution_count": null,
   "metadata": {},
   "outputs": [],
   "source": [
    "# Fine the name of employees whose employee numbers is 7369\n",
    "# ADD YOUR CODE HERE\n"
   ]
  },
  {
   "cell_type": "code",
   "execution_count": null,
   "metadata": {},
   "outputs": [],
   "source": [
    "# List employees not belonging to department 30 or 10.\n",
    "# ADD YOUR CODE HERE\n"
   ]
  },
  {
   "cell_type": "markdown",
   "metadata": {},
   "source": [
    "* To query the unique values \n",
    "\n",
    "    --  **```.unique()```**"
   ]
  },
  {
   "cell_type": "code",
   "execution_count": null,
   "metadata": {},
   "outputs": [],
   "source": [
    "# List the different designations in the company.\n",
    "# ADD YOUR CODE HERE\n",
    "df_EMP['JOB'].unique()"
   ]
  },
  {
   "cell_type": "markdown",
   "metadata": {},
   "source": [
    "* To query the **NaN** (or **null**) values \n",
    "\n",
    "    --  **```.isnull()```**"
   ]
  },
  {
   "cell_type": "code",
   "execution_count": null,
   "metadata": {
    "scrolled": true
   },
   "outputs": [],
   "source": [
    "# List the names of employees who are not eligible for commission.\n",
    "# ADD YOUR CODE HERE\n"
   ]
  },
  {
   "cell_type": "markdown",
   "metadata": {},
   "source": [
    "* To query the **not null** values \n",
    "\n",
    "    --  **```.notnull()```**"
   ]
  },
  {
   "cell_type": "code",
   "execution_count": null,
   "metadata": {},
   "outputs": [],
   "source": [
    "# List the names of employees who are eligible for commission.\n",
    "# ADD YOUR CODE HERE\n"
   ]
  },
  {
   "cell_type": "code",
   "execution_count": null,
   "metadata": {},
   "outputs": [],
   "source": [
    "# List the name and designation of the employee who does not report to anybody.\n",
    "# ADD YOUR CODE HERE\n"
   ]
  },
  {
   "cell_type": "code",
   "execution_count": null,
   "metadata": {},
   "outputs": [],
   "source": [
    "# List employees whose names either start or end with “S”.\n",
    "# ADD YOUR CODE HERE\n"
   ]
  },
  {
   "cell_type": "code",
   "execution_count": null,
   "metadata": {},
   "outputs": [],
   "source": [
    "# List names of employees whose names have “i” as the second character.\n",
    "# ADD YOUR CODE HERE\n"
   ]
  },
  {
   "cell_type": "code",
   "execution_count": null,
   "metadata": {},
   "outputs": [],
   "source": [
    "# List the number of employees working with the company.\n",
    "# ADD YOUR CODE HERE\n"
   ]
  },
  {
   "cell_type": "code",
   "execution_count": null,
   "metadata": {},
   "outputs": [],
   "source": [
    "# List the number of designations available in the EMP table\n",
    "# ADD YOUR CODE HERE\n"
   ]
  },
  {
   "cell_type": "markdown",
   "metadata": {},
   "source": [
    "### Assignment 4: Adding new column to existing DataFrame\n",
    "\n",
    "* By adding a new calculated field;\n",
    "* By declaring a new list as a column;"
   ]
  },
  {
   "cell_type": "code",
   "execution_count": null,
   "metadata": {},
   "outputs": [],
   "source": [
    "# Add a column to EMP DataFrame with the total salaries paid to the employees.\n",
    "\n",
    "# Replace all the NaN values in COMM with zero\n",
    "df_EMP['COMM'].fillna(0, inplace=True)\n",
    "\n",
    "# ADD YOUR CODE HERE\n"
   ]
  },
  {
   "cell_type": "code",
   "execution_count": null,
   "metadata": {},
   "outputs": [],
   "source": [
    "# List the maximum salary paid to a salesman. \n",
    "# ADD YOUR CODE HERE\n"
   ]
  },
  {
   "cell_type": "markdown",
   "metadata": {},
   "source": [
    "### Assignment 5: GROUP BY conditions\n",
    "\n",
    "In pandas, SQL’s ```GROUP BY``` operations are performed using the similarly named ```.groupby()``` method. ```.groupby()``` typically refers to a process where we’d like to split a dataset into groups, apply some function (typically **aggregation**) , and then combine the groups together."
   ]
  },
  {
   "cell_type": "code",
   "execution_count": null,
   "metadata": {},
   "outputs": [],
   "source": [
    "# Import the numpy package\n",
    "import numpy as np\n",
    "\n",
    "# List the number of employees and average salary for employees in department 20.\n",
    "# ADD YOUR CODE HERE\n"
   ]
  },
  {
   "cell_type": "code",
   "execution_count": null,
   "metadata": {},
   "outputs": [],
   "source": [
    "# List the department number and total salary payable in each department.\n",
    "# ADD YOUR CODE HERE\n"
   ]
  },
  {
   "cell_type": "code",
   "execution_count": null,
   "metadata": {},
   "outputs": [],
   "source": [
    "# List the jobs and number of employees in each job. The result should be in the descending order of the number of employees.\n",
    "# ADD YOUR CODE HERE\n"
   ]
  },
  {
   "cell_type": "code",
   "execution_count": null,
   "metadata": {},
   "outputs": [],
   "source": [
    "# List the total salary, maximum and minimum salary and average salary of the employees jobwise.\n",
    "# ADD YOUR CODE HERE\n"
   ]
  },
  {
   "cell_type": "code",
   "execution_count": null,
   "metadata": {},
   "outputs": [],
   "source": [
    "# List the total salary, maximum and minimum salary and average salary of the employees, for department 20.\n",
    "# ADD YOUR CODE HERE\n"
   ]
  },
  {
   "cell_type": "code",
   "execution_count": null,
   "metadata": {},
   "outputs": [],
   "source": [
    "# List the average salary of the employees job wise, for department 20 and \n",
    "# display only those rows having an average salary > 1000\n",
    "# ADD YOUR CODE HERE\n"
   ]
  },
  {
   "cell_type": "markdown",
   "metadata": {},
   "source": [
    "### Assignment 6: JOIN -- Table Merge\n",
    "\n",
    "* To merge the given two tables/DataFrames in your desired way:\n",
    "\n",
    "  -- **```pd.merge```**```(df_left, df_right, left_on = 'key', right_on = 'key', how = 'inner/outer/left/right')```\n"
   ]
  },
  {
   "cell_type": "code",
   "execution_count": null,
   "metadata": {},
   "outputs": [],
   "source": [
    "# Find which department name President is in\n",
    "# ADD YOUR CODE HERE\n"
   ]
  },
  {
   "cell_type": "code",
   "execution_count": null,
   "metadata": {},
   "outputs": [],
   "source": [
    "# Find the places where Managers are working\n",
    "# ADD YOUR CODE HERE\n"
   ]
  }
 ],
 "metadata": {
  "kernelspec": {
   "display_name": "Python 3",
   "language": "python",
   "name": "python3"
  },
  "language_info": {
   "codemirror_mode": {
    "name": "ipython",
    "version": 3
   },
   "file_extension": ".py",
   "mimetype": "text/x-python",
   "name": "python",
   "nbconvert_exporter": "python",
   "pygments_lexer": "ipython3",
   "version": "3.7.3"
  }
 },
 "nbformat": 4,
 "nbformat_minor": 2
}
